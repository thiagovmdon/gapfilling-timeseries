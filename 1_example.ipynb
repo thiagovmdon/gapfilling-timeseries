{
 "cells": [
  {
   "cell_type": "code",
   "execution_count": 1,
   "id": "39319c84",
   "metadata": {},
   "outputs": [],
   "source": [
    "import os\n",
    "import pandas as pd\n",
    "import numpy as np\n",
    "import numpy\n",
    "import datetime\n",
    "import warnings\n",
    "from scipy.spatial.distance import  cdist\n",
    "from sklearn import linear_model\n",
    "import tqdm as tqdm\n",
    "warnings.simplefilter(action='ignore', category=Warning)"
   ]
  },
  {
   "cell_type": "code",
   "execution_count": 2,
   "id": "2339ec31",
   "metadata": {},
   "outputs": [],
   "source": [
    "import fillinggapsts as fillinggapsts"
   ]
  },
  {
   "cell_type": "markdown",
   "id": "03f28ab2",
   "metadata": {},
   "source": [
    "#### First you import the needed datasets:"
   ]
  },
  {
   "cell_type": "code",
   "execution_count": 3,
   "id": "9a6b2cd9",
   "metadata": {},
   "outputs": [
    {
     "data": {
      "text/html": [
       "<div>\n",
       "<style scoped>\n",
       "    .dataframe tbody tr th:only-of-type {\n",
       "        vertical-align: middle;\n",
       "    }\n",
       "\n",
       "    .dataframe tbody tr th {\n",
       "        vertical-align: top;\n",
       "    }\n",
       "\n",
       "    .dataframe thead th {\n",
       "        text-align: right;\n",
       "    }\n",
       "</style>\n",
       "<table border=\"1\" class=\"dataframe\">\n",
       "  <thead>\n",
       "    <tr style=\"text-align: right;\">\n",
       "      <th></th>\n",
       "      <th>Lon</th>\n",
       "      <th>Lat</th>\n",
       "    </tr>\n",
       "    <tr>\n",
       "      <th>Code</th>\n",
       "      <th></th>\n",
       "      <th></th>\n",
       "    </tr>\n",
       "  </thead>\n",
       "  <tbody>\n",
       "    <tr>\n",
       "      <th>26J/04UG</th>\n",
       "      <td>215040.6150</td>\n",
       "      <td>98919.8390</td>\n",
       "    </tr>\n",
       "    <tr>\n",
       "      <th>24J/02F</th>\n",
       "      <td>219249.0000</td>\n",
       "      <td>146172.0000</td>\n",
       "    </tr>\n",
       "    <tr>\n",
       "      <th>26I/02F</th>\n",
       "      <td>204698.0000</td>\n",
       "      <td>106919.0000</td>\n",
       "    </tr>\n",
       "    <tr>\n",
       "      <th>23I/01C</th>\n",
       "      <td>198404.2900</td>\n",
       "      <td>158137.5540</td>\n",
       "    </tr>\n",
       "    <tr>\n",
       "      <th>28H/01G</th>\n",
       "      <td>189316.7726</td>\n",
       "      <td>71143.1852</td>\n",
       "    </tr>\n",
       "  </tbody>\n",
       "</table>\n",
       "</div>"
      ],
      "text/plain": [
       "                  Lon          Lat\n",
       "Code                              \n",
       "26J/04UG  215040.6150   98919.8390\n",
       "24J/02F   219249.0000  146172.0000\n",
       "26I/02F   204698.0000  106919.0000\n",
       "23I/01C   198404.2900  158137.5540\n",
       "28H/01G   189316.7726   71143.1852"
      ]
     },
     "execution_count": 3,
     "metadata": {},
     "output_type": "execute_result"
    }
   ],
   "source": [
    "# Read the xlsx data with the coordinates (x,y) of your points\n",
    "pathcoords =r'C:\\Users\\User\\OneDrive\\Projects\\Y2022\\Fillgaps\\filling-series-lr\\raing_gauges_unfilled_coords_example.xlsx'\n",
    "coords=pd.read_excel(pathcoords)\n",
    "coords.rename(columns={\"CÓDIGO\": \"Code\"}, inplace=True)\n",
    "coords.set_index('Code', inplace=True)\n",
    "coords.head()"
   ]
  },
  {
   "cell_type": "code",
   "execution_count": 4,
   "id": "33c56c81",
   "metadata": {},
   "outputs": [
    {
     "data": {
      "text/html": [
       "<div>\n",
       "<style scoped>\n",
       "    .dataframe tbody tr th:only-of-type {\n",
       "        vertical-align: middle;\n",
       "    }\n",
       "\n",
       "    .dataframe tbody tr th {\n",
       "        vertical-align: top;\n",
       "    }\n",
       "\n",
       "    .dataframe thead th {\n",
       "        text-align: right;\n",
       "    }\n",
       "</style>\n",
       "<table border=\"1\" class=\"dataframe\">\n",
       "  <thead>\n",
       "    <tr style=\"text-align: right;\">\n",
       "      <th></th>\n",
       "      <th>26J/04UG</th>\n",
       "      <th>24J/02F</th>\n",
       "      <th>26I/02F</th>\n",
       "      <th>23I/01C</th>\n",
       "      <th>28H/01G</th>\n",
       "      <th>26M/02G</th>\n",
       "      <th>27K/01UG</th>\n",
       "      <th>26I/03UG</th>\n",
       "      <th>28I/01UG</th>\n",
       "      <th>24J/02UG</th>\n",
       "      <th>...</th>\n",
       "      <th>26L/01UG</th>\n",
       "      <th>25N/01UG</th>\n",
       "      <th>23K/01UG</th>\n",
       "      <th>27J/01UG</th>\n",
       "      <th>24H/01UG</th>\n",
       "      <th>26J/01UG</th>\n",
       "      <th>27J/03C</th>\n",
       "      <th>27L/02G</th>\n",
       "      <th>24I/01C</th>\n",
       "      <th>24K/02UG</th>\n",
       "    </tr>\n",
       "    <tr>\n",
       "      <th>dates</th>\n",
       "      <th></th>\n",
       "      <th></th>\n",
       "      <th></th>\n",
       "      <th></th>\n",
       "      <th></th>\n",
       "      <th></th>\n",
       "      <th></th>\n",
       "      <th></th>\n",
       "      <th></th>\n",
       "      <th></th>\n",
       "      <th></th>\n",
       "      <th></th>\n",
       "      <th></th>\n",
       "      <th></th>\n",
       "      <th></th>\n",
       "      <th></th>\n",
       "      <th></th>\n",
       "      <th></th>\n",
       "      <th></th>\n",
       "      <th></th>\n",
       "      <th></th>\n",
       "    </tr>\n",
       "  </thead>\n",
       "  <tbody>\n",
       "    <tr>\n",
       "      <th>1969-10-01</th>\n",
       "      <td>NaN</td>\n",
       "      <td>NaN</td>\n",
       "      <td>NaN</td>\n",
       "      <td>NaN</td>\n",
       "      <td>0.0</td>\n",
       "      <td>NaN</td>\n",
       "      <td>NaN</td>\n",
       "      <td>0.0</td>\n",
       "      <td>0.0</td>\n",
       "      <td>0.0</td>\n",
       "      <td>...</td>\n",
       "      <td>0.0</td>\n",
       "      <td>NaN</td>\n",
       "      <td>0.0</td>\n",
       "      <td>NaN</td>\n",
       "      <td>NaN</td>\n",
       "      <td>0.0</td>\n",
       "      <td>NaN</td>\n",
       "      <td>NaN</td>\n",
       "      <td>0.0</td>\n",
       "      <td>0.0</td>\n",
       "    </tr>\n",
       "    <tr>\n",
       "      <th>1969-10-02</th>\n",
       "      <td>NaN</td>\n",
       "      <td>NaN</td>\n",
       "      <td>NaN</td>\n",
       "      <td>NaN</td>\n",
       "      <td>0.0</td>\n",
       "      <td>NaN</td>\n",
       "      <td>NaN</td>\n",
       "      <td>0.0</td>\n",
       "      <td>0.0</td>\n",
       "      <td>2.8</td>\n",
       "      <td>...</td>\n",
       "      <td>0.0</td>\n",
       "      <td>NaN</td>\n",
       "      <td>2.1</td>\n",
       "      <td>NaN</td>\n",
       "      <td>NaN</td>\n",
       "      <td>0.0</td>\n",
       "      <td>NaN</td>\n",
       "      <td>NaN</td>\n",
       "      <td>1.3</td>\n",
       "      <td>0.0</td>\n",
       "    </tr>\n",
       "    <tr>\n",
       "      <th>1969-10-03</th>\n",
       "      <td>NaN</td>\n",
       "      <td>NaN</td>\n",
       "      <td>NaN</td>\n",
       "      <td>NaN</td>\n",
       "      <td>14.6</td>\n",
       "      <td>NaN</td>\n",
       "      <td>NaN</td>\n",
       "      <td>10.0</td>\n",
       "      <td>46.5</td>\n",
       "      <td>6.5</td>\n",
       "      <td>...</td>\n",
       "      <td>2.0</td>\n",
       "      <td>NaN</td>\n",
       "      <td>1.2</td>\n",
       "      <td>NaN</td>\n",
       "      <td>NaN</td>\n",
       "      <td>11.3</td>\n",
       "      <td>NaN</td>\n",
       "      <td>NaN</td>\n",
       "      <td>1.4</td>\n",
       "      <td>0.9</td>\n",
       "    </tr>\n",
       "    <tr>\n",
       "      <th>1969-10-04</th>\n",
       "      <td>NaN</td>\n",
       "      <td>NaN</td>\n",
       "      <td>NaN</td>\n",
       "      <td>4.0</td>\n",
       "      <td>9.8</td>\n",
       "      <td>NaN</td>\n",
       "      <td>NaN</td>\n",
       "      <td>21.3</td>\n",
       "      <td>12.5</td>\n",
       "      <td>6.0</td>\n",
       "      <td>...</td>\n",
       "      <td>25.7</td>\n",
       "      <td>NaN</td>\n",
       "      <td>9.6</td>\n",
       "      <td>NaN</td>\n",
       "      <td>NaN</td>\n",
       "      <td>17.3</td>\n",
       "      <td>NaN</td>\n",
       "      <td>NaN</td>\n",
       "      <td>6.7</td>\n",
       "      <td>12.4</td>\n",
       "    </tr>\n",
       "    <tr>\n",
       "      <th>1969-10-05</th>\n",
       "      <td>NaN</td>\n",
       "      <td>NaN</td>\n",
       "      <td>NaN</td>\n",
       "      <td>0.0</td>\n",
       "      <td>7.7</td>\n",
       "      <td>NaN</td>\n",
       "      <td>NaN</td>\n",
       "      <td>2.0</td>\n",
       "      <td>8.7</td>\n",
       "      <td>1.4</td>\n",
       "      <td>...</td>\n",
       "      <td>0.6</td>\n",
       "      <td>NaN</td>\n",
       "      <td>8.0</td>\n",
       "      <td>NaN</td>\n",
       "      <td>NaN</td>\n",
       "      <td>0.8</td>\n",
       "      <td>NaN</td>\n",
       "      <td>NaN</td>\n",
       "      <td>2.0</td>\n",
       "      <td>0.8</td>\n",
       "    </tr>\n",
       "  </tbody>\n",
       "</table>\n",
       "<p>5 rows × 50 columns</p>\n",
       "</div>"
      ],
      "text/plain": [
       "            26J/04UG  24J/02F  26I/02F  23I/01C  28H/01G  26M/02G  27K/01UG  \\\n",
       "dates                                                                         \n",
       "1969-10-01       NaN      NaN      NaN      NaN      0.0      NaN       NaN   \n",
       "1969-10-02       NaN      NaN      NaN      NaN      0.0      NaN       NaN   \n",
       "1969-10-03       NaN      NaN      NaN      NaN     14.6      NaN       NaN   \n",
       "1969-10-04       NaN      NaN      NaN      4.0      9.8      NaN       NaN   \n",
       "1969-10-05       NaN      NaN      NaN      0.0      7.7      NaN       NaN   \n",
       "\n",
       "            26I/03UG  28I/01UG  24J/02UG  ...  26L/01UG  25N/01UG  23K/01UG  \\\n",
       "dates                                     ...                                 \n",
       "1969-10-01       0.0       0.0       0.0  ...       0.0       NaN       0.0   \n",
       "1969-10-02       0.0       0.0       2.8  ...       0.0       NaN       2.1   \n",
       "1969-10-03      10.0      46.5       6.5  ...       2.0       NaN       1.2   \n",
       "1969-10-04      21.3      12.5       6.0  ...      25.7       NaN       9.6   \n",
       "1969-10-05       2.0       8.7       1.4  ...       0.6       NaN       8.0   \n",
       "\n",
       "            27J/01UG  24H/01UG  26J/01UG  27J/03C  27L/02G  24I/01C  24K/02UG  \n",
       "dates                                                                          \n",
       "1969-10-01       NaN       NaN       0.0      NaN      NaN      0.0       0.0  \n",
       "1969-10-02       NaN       NaN       0.0      NaN      NaN      1.3       0.0  \n",
       "1969-10-03       NaN       NaN      11.3      NaN      NaN      1.4       0.9  \n",
       "1969-10-04       NaN       NaN      17.3      NaN      NaN      6.7      12.4  \n",
       "1969-10-05       NaN       NaN       0.8      NaN      NaN      2.0       0.8  \n",
       "\n",
       "[5 rows x 50 columns]"
      ]
     },
     "execution_count": 4,
     "metadata": {},
     "output_type": "execute_result"
    }
   ],
   "source": [
    "# Read the xlsx file with your nonfilled data\n",
    "pathnonfilleddata =r'C:\\Users\\User\\OneDrive\\Projects\\Y2022\\Fillgaps\\filling-series-lr\\raing_gauges_unfilled_example.xlsx'\n",
    "nonfilleddata=pd.read_excel(pathnonfilleddata)\n",
    "nonfilleddata.set_index('dates', inplace=True)\n",
    "nonfilleddata.head()"
   ]
  },
  {
   "cell_type": "code",
   "execution_count": 5,
   "id": "1971f019",
   "metadata": {},
   "outputs": [
    {
     "data": {
      "text/html": [
       "<div>\n",
       "<style scoped>\n",
       "    .dataframe tbody tr th:only-of-type {\n",
       "        vertical-align: middle;\n",
       "    }\n",
       "\n",
       "    .dataframe tbody tr th {\n",
       "        vertical-align: top;\n",
       "    }\n",
       "\n",
       "    .dataframe thead th {\n",
       "        text-align: right;\n",
       "    }\n",
       "</style>\n",
       "<table border=\"1\" class=\"dataframe\">\n",
       "  <thead>\n",
       "    <tr style=\"text-align: right;\">\n",
       "      <th></th>\n",
       "      <th>CÓDIGO</th>\n",
       "      <th>NOME</th>\n",
       "    </tr>\n",
       "  </thead>\n",
       "  <tbody>\n",
       "    <tr>\n",
       "      <th>0</th>\n",
       "      <td>23I/01C</td>\n",
       "      <td>ALCÁÇOVAS</td>\n",
       "    </tr>\n",
       "  </tbody>\n",
       "</table>\n",
       "</div>"
      ],
      "text/plain": [
       "    CÓDIGO       NOME\n",
       "0  23I/01C  ALCÁÇOVAS"
      ]
     },
     "execution_count": 5,
     "metadata": {},
     "output_type": "execute_result"
    }
   ],
   "source": [
    "pathfilter =r'C:\\Users\\User\\OneDrive\\Projects\\Y2022\\Fillgaps\\filling-series-lr\\filter_example.xlsx'\n",
    "filtaux=pd.read_excel(pathfilter)\n",
    "filtaux"
   ]
  },
  {
   "cell_type": "markdown",
   "id": "9b736599",
   "metadata": {},
   "source": [
    "#### (a) Using and ploting the fillinggapsts.fillgapslr function:"
   ]
  },
  {
   "cell_type": "code",
   "execution_count": 6,
   "id": "4b309f57",
   "metadata": {},
   "outputs": [
    {
     "name": "stderr",
     "output_type": "stream",
     "text": [
      "100%|██████████████████████████████████████████████████████████████████████████████████| 33/33 [00:01<00:00, 24.59it/s]\n"
     ]
    }
   ],
   "source": [
    "filleddata, r2listdf  = fillinggapsts.fillgapslr(nonfilleddata, coords, filtaux, work_w_filter = True, Use_t = True)"
   ]
  },
  {
   "cell_type": "markdown",
   "id": "3008d53e",
   "metadata": {},
   "source": [
    "As we have two outputs, i.e., a dataframe with the filled gaps, and another with the R² list, we set two variables as outputs."
   ]
  },
  {
   "cell_type": "markdown",
   "id": "2977728b",
   "metadata": {},
   "source": [
    "1. Firstly we check the filleddata:"
   ]
  },
  {
   "cell_type": "code",
   "execution_count": 7,
   "id": "2365ec97",
   "metadata": {},
   "outputs": [
    {
     "data": {
      "text/html": [
       "<div>\n",
       "<style scoped>\n",
       "    .dataframe tbody tr th:only-of-type {\n",
       "        vertical-align: middle;\n",
       "    }\n",
       "\n",
       "    .dataframe tbody tr th {\n",
       "        vertical-align: top;\n",
       "    }\n",
       "\n",
       "    .dataframe thead th {\n",
       "        text-align: right;\n",
       "    }\n",
       "</style>\n",
       "<table border=\"1\" class=\"dataframe\">\n",
       "  <thead>\n",
       "    <tr style=\"text-align: right;\">\n",
       "      <th></th>\n",
       "      <th>23I/01C</th>\n",
       "    </tr>\n",
       "    <tr>\n",
       "      <th>dates</th>\n",
       "      <th></th>\n",
       "    </tr>\n",
       "  </thead>\n",
       "  <tbody>\n",
       "    <tr>\n",
       "      <th>1969-10-01</th>\n",
       "      <td>0.000000</td>\n",
       "    </tr>\n",
       "    <tr>\n",
       "      <th>1969-10-02</th>\n",
       "      <td>1.977921</td>\n",
       "    </tr>\n",
       "    <tr>\n",
       "      <th>1969-10-03</th>\n",
       "      <td>0.000000</td>\n",
       "    </tr>\n",
       "    <tr>\n",
       "      <th>1969-10-04</th>\n",
       "      <td>4.000000</td>\n",
       "    </tr>\n",
       "    <tr>\n",
       "      <th>1969-10-05</th>\n",
       "      <td>0.000000</td>\n",
       "    </tr>\n",
       "  </tbody>\n",
       "</table>\n",
       "</div>"
      ],
      "text/plain": [
       "             23I/01C\n",
       "dates               \n",
       "1969-10-01  0.000000\n",
       "1969-10-02  1.977921\n",
       "1969-10-03  0.000000\n",
       "1969-10-04  4.000000\n",
       "1969-10-05  0.000000"
      ]
     },
     "execution_count": 7,
     "metadata": {},
     "output_type": "execute_result"
    }
   ],
   "source": [
    "filleddata.head()"
   ]
  },
  {
   "cell_type": "markdown",
   "id": "b694568d",
   "metadata": {},
   "source": [
    "2. Secondly we check the r2listdf:"
   ]
  },
  {
   "cell_type": "code",
   "execution_count": 8,
   "id": "5345fc04",
   "metadata": {},
   "outputs": [
    {
     "data": {
      "text/html": [
       "<div>\n",
       "<style scoped>\n",
       "    .dataframe tbody tr th:only-of-type {\n",
       "        vertical-align: middle;\n",
       "    }\n",
       "\n",
       "    .dataframe tbody tr th {\n",
       "        vertical-align: top;\n",
       "    }\n",
       "\n",
       "    .dataframe thead th {\n",
       "        text-align: right;\n",
       "    }\n",
       "</style>\n",
       "<table border=\"1\" class=\"dataframe\">\n",
       "  <thead>\n",
       "    <tr style=\"text-align: right;\">\n",
       "      <th></th>\n",
       "      <th>Mean</th>\n",
       "      <th>Min</th>\n",
       "      <th>Max</th>\n",
       "    </tr>\n",
       "  </thead>\n",
       "  <tbody>\n",
       "    <tr>\n",
       "      <th>23I/01C</th>\n",
       "      <td>0.797799</td>\n",
       "      <td>0.797799</td>\n",
       "      <td>0.797799</td>\n",
       "    </tr>\n",
       "  </tbody>\n",
       "</table>\n",
       "</div>"
      ],
      "text/plain": [
       "             Mean       Min       Max\n",
       "23I/01C  0.797799  0.797799  0.797799"
      ]
     },
     "execution_count": 8,
     "metadata": {},
     "output_type": "execute_result"
    }
   ],
   "source": [
    "r2listdf"
   ]
  },
  {
   "cell_type": "markdown",
   "id": "b1937341",
   "metadata": {},
   "source": [
    "#### (b) Using and ploting the fillinggapsts.summarygaps function:"
   ]
  },
  {
   "cell_type": "code",
   "execution_count": 9,
   "id": "d3177258",
   "metadata": {},
   "outputs": [
    {
     "data": {
      "text/html": [
       "<div>\n",
       "<style scoped>\n",
       "    .dataframe tbody tr th:only-of-type {\n",
       "        vertical-align: middle;\n",
       "    }\n",
       "\n",
       "    .dataframe tbody tr th {\n",
       "        vertical-align: top;\n",
       "    }\n",
       "\n",
       "    .dataframe thead th {\n",
       "        text-align: right;\n",
       "    }\n",
       "</style>\n",
       "<table border=\"1\" class=\"dataframe\">\n",
       "  <thead>\n",
       "    <tr style=\"text-align: right;\">\n",
       "      <th></th>\n",
       "      <th>CoordX</th>\n",
       "      <th>CoordY</th>\n",
       "      <th>NumGaps</th>\n",
       "      <th>PercentageGaps</th>\n",
       "    </tr>\n",
       "    <tr>\n",
       "      <th>Code</th>\n",
       "      <th></th>\n",
       "      <th></th>\n",
       "      <th></th>\n",
       "      <th></th>\n",
       "    </tr>\n",
       "  </thead>\n",
       "  <tbody>\n",
       "    <tr>\n",
       "      <th>26J/04UG</th>\n",
       "      <td>215040.6150</td>\n",
       "      <td>98919.8390</td>\n",
       "      <td>730.0</td>\n",
       "      <td>100.000000</td>\n",
       "    </tr>\n",
       "    <tr>\n",
       "      <th>24J/02F</th>\n",
       "      <td>219249.0000</td>\n",
       "      <td>146172.0000</td>\n",
       "      <td>730.0</td>\n",
       "      <td>100.000000</td>\n",
       "    </tr>\n",
       "    <tr>\n",
       "      <th>26I/02F</th>\n",
       "      <td>204698.0000</td>\n",
       "      <td>106919.0000</td>\n",
       "      <td>730.0</td>\n",
       "      <td>100.000000</td>\n",
       "    </tr>\n",
       "    <tr>\n",
       "      <th>23I/01C</th>\n",
       "      <td>198404.2900</td>\n",
       "      <td>158137.5540</td>\n",
       "      <td>33.0</td>\n",
       "      <td>4.520548</td>\n",
       "    </tr>\n",
       "    <tr>\n",
       "      <th>28H/01G</th>\n",
       "      <td>189316.7726</td>\n",
       "      <td>71143.1852</td>\n",
       "      <td>0.0</td>\n",
       "      <td>0.000000</td>\n",
       "    </tr>\n",
       "  </tbody>\n",
       "</table>\n",
       "</div>"
      ],
      "text/plain": [
       "               CoordX       CoordY  NumGaps  PercentageGaps\n",
       "Code                                                       \n",
       "26J/04UG  215040.6150   98919.8390    730.0      100.000000\n",
       "24J/02F   219249.0000  146172.0000    730.0      100.000000\n",
       "26I/02F   204698.0000  106919.0000    730.0      100.000000\n",
       "23I/01C   198404.2900  158137.5540     33.0        4.520548\n",
       "28H/01G   189316.7726   71143.1852      0.0        0.000000"
      ]
     },
     "execution_count": 9,
     "metadata": {},
     "output_type": "execute_result"
    }
   ],
   "source": [
    "summarygaps = fillinggapsts.summarygaps(nonfilleddata, coords)\n",
    "summarygaps.head()"
   ]
  },
  {
   "cell_type": "markdown",
   "id": "991e7f7e",
   "metadata": {},
   "source": [
    "#### (c) Using and ploting the fillinggapsts.plotgaps function:"
   ]
  },
  {
   "cell_type": "code",
   "execution_count": 11,
   "id": "65a55019",
   "metadata": {},
   "outputs": [
    {
     "data": {
      "image/png": "[encoded data removed]",
      "text/plain": [
       "<Figure size 1080x2160 with 2 Axes>"
      ]
     },
     "metadata": {
      "needs_background": "light"
     },
     "output_type": "display_data"
    }
   ],
   "source": [
    "fillinggapsts.plotgaps(summarygaps,  crsproj = 'epsg:2963', cmapproj = \"spring\", backmapproj = False)"
   ]
  },
  {
   "cell_type": "code",
   "execution_count": null,
   "id": "b4c71d95",
   "metadata": {},
   "outputs": [],
   "source": []
  }
 ],
 "metadata": {
  "kernelspec": {
   "display_name": "Python 3 (ipykernel)",
   "language": "python",
   "name": "python3"
  },
  "language_info": {
   "codemirror_mode": {
    "name": "ipython",
    "version": 3
   },
   "file_extension": ".py",
   "mimetype": "text/x-python",
   "name": "python",
   "nbconvert_exporter": "python",
   "pygments_lexer": "ipython3",
   "version": "3.10.2"
  }
 },
 "nbformat": 4,
 "nbformat_minor": 5
}
